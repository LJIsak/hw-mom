{
 "cells": [
  {
   "cell_type": "code",
   "execution_count": 1,
   "metadata": {},
   "outputs": [],
   "source": [
    "import sys, subprocess, os\n",
    "from pathlib import Path"
   ]
  },
  {
   "cell_type": "code",
   "execution_count": 2,
   "metadata": {},
   "outputs": [],
   "source": [
    "from dataclasses import dataclass\n",
    "\n",
    "@dataclass\n",
    "class WidgetConfig:\n",
    "    widget_type: str\n",
    "    metric: str\n",
    "    fromRow: int # Can be passed directly to QGridLayout::addWidget\n",
    "    fromCol: int # Can be passed directly to QGridLayout::addWidget\n",
    "    rowSpan: int # Can be passed directly to QGridLayout::addWidget\n",
    "    colSpan: int # Can be passed directly to QGridLayout::addWidget\n",
    "    color_scheme: str\n",
    "    is_separator: bool = False\n"
   ]
  },
  {
   "cell_type": "code",
   "execution_count": 7,
   "metadata": {},
   "outputs": [],
   "source": [
    "class LayoutParser:\n",
    "    def __init__(self, filepath: str):\n",
    "        self.filepath = filepath\n",
    "        self.widgets = [] # list of WidgetConfig objects\n",
    "        self.layout_str = ''\n",
    "        self.theme_str = ''\n",
    "        self.row_strings = []\n",
    "        self.n_rows = 0\n",
    "        self.n_cols = 0\n",
    "        self.occupancy_matrix = []\n",
    "        self.parse_file(filepath)\n",
    "        self.parse_widgets()\n",
    "\n",
    "    def parse_file(self, filepath: str):\n",
    "        \"\"\"Parse a layout file and store the layout information in class attributes.\"\"\"\n",
    "        # Read file contents\n",
    "        with open(filepath) as f:\n",
    "            self.layout_str = f.read()\n",
    "\n",
    "        # Remove trailing linebreaks from layout_str:\n",
    "        self.layout_str = self.layout_str.rstrip()\n",
    "\n",
    "        # Split into rows and handle theme\n",
    "        if 'theme:' in self.layout_str:\n",
    "            self.theme_str = self.layout_str.split('theme:')[1].strip().split('\\n')[0]\n",
    "            self.row_strings = self.layout_str.split('\\n')[1:]\n",
    "        else:\n",
    "            self.theme_str = 'light'\n",
    "            self.row_strings = self.layout_str.split('\\n')\n",
    "\n",
    "        # Calculate grid dimensions\n",
    "        self.n_rows = len(self.row_strings)\n",
    "        \n",
    "        # Find maximum columns by summing widget widths in each row\n",
    "        self.n_cols = 1\n",
    "        for row_str in self.row_strings:\n",
    "            n_cols_in_row = 0\n",
    "            for substring in row_str.split('x')[1:]:\n",
    "                # Catch errors where the 'x' is not adjacent to numbers (e.g. for text widgets).\n",
    "                try:\n",
    "                    n_cols_in_row += int(substring[0])\n",
    "                except:\n",
    "                    continue\n",
    "            self.n_cols = max(self.n_cols, n_cols_in_row)\n",
    "        \n",
    "        # Create occupancy matrix to keep track of widget positions more easily\n",
    "        self.occupancy_matrix = [[0]*self.n_cols for _ in range(self.n_rows)]\n",
    "\n",
    "    def parse_widgets(self):\n",
    "        \"\"\"Parse widget configurations from the row strings and store them in self.widgets.\"\"\"\n",
    "        # Iterate over all rows:\n",
    "        for row_idx, row_str in enumerate(self.row_strings):\n",
    "            widget_strings = [s.strip('[') for s in row_str.split(']')[:-1]]\n",
    "\n",
    "            # Iterate over all widgets in the row while tracking columns:\n",
    "            current_col = 0\n",
    "            for widget_str in widget_strings:\n",
    "                widget_str = widget_str.rstrip() # removes trailing whitespaces\n",
    "\n",
    "                # If widget string is empty, it indicates occupancy from above. If so, \n",
    "                # increament the column tracker until an empty space is found or row ends.\n",
    "                if widget_str == '':\n",
    "                    while self.occupancy_matrix[row_idx][current_col]:\n",
    "                        current_col += 1\n",
    "                        if current_col == self.n_cols:\n",
    "                            break\n",
    "                    continue\n",
    "\n",
    "                color = 'A' if 'color' not in widget_str else widget_str.split('color')[-1][-1]\n",
    "                widget = WidgetConfig(\n",
    "                    widget_type=widget_str.split(' ')[0],\n",
    "                    metric='separator' if 'separator' in widget_str else widget_str.split(' ')[1],\n",
    "                    fromRow=row_idx,\n",
    "                    fromCol=current_col,\n",
    "                    rowSpan=int(widget_str.split('x')[-2][-1]), # first char before last 'x'\n",
    "                    colSpan=int(widget_str.split('x')[-1][-0]), # first char after last 'x'\n",
    "                    color_scheme=color,\n",
    "                    is_separator=True if 'separator' in widget_str else False\n",
    "                )\n",
    "                self.widgets.append(widget)\n",
    "\n",
    "                # Populate occupancy matrix:\n",
    "                for r in range(widget.fromRow, widget.fromRow + widget.rowSpan):\n",
    "                    for c in range(widget.fromCol, widget.fromCol + widget.colSpan):\n",
    "                        self.occupancy_matrix[r][c] = 1\n",
    "\n",
    "                # Skip ahead colSpan columns when tracking current column:\n",
    "                current_col += widget.colSpan\n"
   ]
  },
  {
   "cell_type": "code",
   "execution_count": 8,
   "metadata": {},
   "outputs": [
    {
     "name": "stdout",
     "output_type": "stream",
     "text": [
      "theme: light\n",
      "[separator 1x8][text ping 1x2]\n",
      "[separator 1x1][graph cpu 1x4][circle cpu 1x2][separator 1x1][text memory 1x2][separator 1x1]\n",
      "[separator 1x1][graph gpu 1x4 color b][circle memory 1x2 color b][separator 1x1][text gpu_memory 1x2][separator 1x1]\n",
      "[separator 1x8][text cpu 1x2]\n"
     ]
    },
    {
     "data": {
      "text/plain": [
       "[WidgetConfig(widget_type='separator', metric='separator', fromRow=0, fromCol=0, rowSpan=1, colSpan=8, color_scheme='A', is_separator=True),\n",
       " WidgetConfig(widget_type='text', metric='ping', fromRow=0, fromCol=8, rowSpan=1, colSpan=2, color_scheme='A', is_separator=False),\n",
       " WidgetConfig(widget_type='separator', metric='separator', fromRow=1, fromCol=0, rowSpan=1, colSpan=1, color_scheme='A', is_separator=True),\n",
       " WidgetConfig(widget_type='graph', metric='cpu', fromRow=1, fromCol=1, rowSpan=1, colSpan=4, color_scheme='A', is_separator=False),\n",
       " WidgetConfig(widget_type='circle', metric='cpu', fromRow=1, fromCol=5, rowSpan=1, colSpan=2, color_scheme='A', is_separator=False),\n",
       " WidgetConfig(widget_type='separator', metric='separator', fromRow=1, fromCol=7, rowSpan=1, colSpan=1, color_scheme='A', is_separator=True),\n",
       " WidgetConfig(widget_type='text', metric='memory', fromRow=1, fromCol=8, rowSpan=1, colSpan=2, color_scheme='A', is_separator=False),\n",
       " WidgetConfig(widget_type='separator', metric='separator', fromRow=1, fromCol=10, rowSpan=1, colSpan=1, color_scheme='A', is_separator=True),\n",
       " WidgetConfig(widget_type='separator', metric='separator', fromRow=2, fromCol=0, rowSpan=1, colSpan=1, color_scheme='A', is_separator=True),\n",
       " WidgetConfig(widget_type='graph', metric='gpu', fromRow=2, fromCol=1, rowSpan=1, colSpan=4, color_scheme='b', is_separator=False),\n",
       " WidgetConfig(widget_type='circle', metric='memory', fromRow=2, fromCol=5, rowSpan=1, colSpan=2, color_scheme='b', is_separator=False),\n",
       " WidgetConfig(widget_type='separator', metric='separator', fromRow=2, fromCol=7, rowSpan=1, colSpan=1, color_scheme='A', is_separator=True),\n",
       " WidgetConfig(widget_type='text', metric='gpu_memory', fromRow=2, fromCol=8, rowSpan=1, colSpan=2, color_scheme='A', is_separator=False),\n",
       " WidgetConfig(widget_type='separator', metric='separator', fromRow=2, fromCol=10, rowSpan=1, colSpan=1, color_scheme='A', is_separator=True),\n",
       " WidgetConfig(widget_type='separator', metric='separator', fromRow=3, fromCol=0, rowSpan=1, colSpan=8, color_scheme='A', is_separator=True),\n",
       " WidgetConfig(widget_type='text', metric='cpu', fromRow=3, fromCol=8, rowSpan=1, colSpan=2, color_scheme='A', is_separator=False)]"
      ]
     },
     "execution_count": 8,
     "metadata": {},
     "output_type": "execute_result"
    }
   ],
   "source": [
    "layout = LayoutParser('settings/default_layout.txt')\n",
    "print(layout.layout_str)\n",
    "\n",
    "widgets = layout.widgets\n",
    "widgets"
   ]
  },
  {
   "cell_type": "code",
   "execution_count": 10,
   "metadata": {},
   "outputs": [
    {
     "data": {
      "text/plain": [
       "[[1, 1, 1, 1, 1, 1, 1, 1, 1, 1, 0],\n",
       " [1, 1, 1, 1, 1, 1, 1, 1, 1, 1, 1],\n",
       " [1, 1, 1, 1, 1, 1, 1, 1, 1, 1, 1],\n",
       " [1, 1, 1, 1, 1, 1, 1, 1, 1, 1, 0]]"
      ]
     },
     "execution_count": 10,
     "metadata": {},
     "output_type": "execute_result"
    }
   ],
   "source": [
    "layout.occupancy_matrix"
   ]
  },
  {
   "cell_type": "markdown",
   "metadata": {},
   "source": [
    "---"
   ]
  },
  {
   "cell_type": "code",
   "execution_count": null,
   "metadata": {},
   "outputs": [],
   "source": []
  },
  {
   "cell_type": "code",
   "execution_count": null,
   "metadata": {},
   "outputs": [],
   "source": []
  }
 ],
 "metadata": {
  "kernelspec": {
   "display_name": ".venv",
   "language": "python",
   "name": "python3"
  },
  "language_info": {
   "codemirror_mode": {
    "name": "ipython",
    "version": 3
   },
   "file_extension": ".py",
   "mimetype": "text/x-python",
   "name": "python",
   "nbconvert_exporter": "python",
   "pygments_lexer": "ipython3",
   "version": "3.12.8"
  }
 },
 "nbformat": 4,
 "nbformat_minor": 2
}
