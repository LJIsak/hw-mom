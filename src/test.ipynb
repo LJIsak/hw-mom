{
 "cells": [
  {
   "cell_type": "code",
   "execution_count": 1,
   "metadata": {},
   "outputs": [],
   "source": [
    "import sys, subprocess, os\n",
    "from pathlib import Path\n"
   ]
  },
  {
   "cell_type": "code",
   "execution_count": 2,
   "metadata": {},
   "outputs": [],
   "source": [
    "from dataclasses import dataclass\n",
    "\n",
    "@dataclass\n",
    "class WidgetConfig:\n",
    "    widget_type: str\n",
    "    metric: str\n",
    "    fromRow: int # Can be passed directly to QGridLayout::addWidget\n",
    "    fromCol: int # Can be passed directly to QGridLayout::addWidget\n",
    "    rowSpan: int # Can be passed directly to QGridLayout::addWidget\n",
    "    colSpan: int # Can be passed directly to QGridLayout::addWidget\n",
    "    color_scheme: str\n",
    "    is_separator: bool = False\n"
   ]
  },
  {
   "cell_type": "code",
   "execution_count": 6,
   "metadata": {},
   "outputs": [],
   "source": [
    "class LayoutParser:\n",
    "    def __init__(self, filepath: str):\n",
    "        self.widgets = [] # list of WidgetConfig objects\n",
    "        self.layout_str = ''\n",
    "        self.theme_str = ''\n",
    "        self.row_strings = []\n",
    "        self.n_rows = 0\n",
    "        self.n_cols = 0\n",
    "        self.filepath = filepath\n",
    "        self.parse_file(filepath)\n",
    "        self.parse_widgets()\n",
    "\n",
    "    def parse_file(self, filepath: str):\n",
    "        \"\"\"Parse a layout file and store the layout information in class attributes.\"\"\"\n",
    "        # Read file contents\n",
    "        with open(filepath) as f:\n",
    "            self.layout_str = f.read()\n",
    "\n",
    "        # Split into rows and handle theme\n",
    "        if 'theme:' in self.layout_str:\n",
    "            self.theme_str = self.layout_str.split('theme:')[1].strip().split('\\n')[0]\n",
    "            self.row_strings = self.layout_str.split('\\n')[1:]\n",
    "        else:\n",
    "            self.theme_str = 'light'\n",
    "            self.row_strings = self.layout_str.split('\\n')\n",
    "\n",
    "        # Calculate grid dimensions\n",
    "        self.n_rows = len(self.row_strings)\n",
    "        \n",
    "        # Find maximum columns by summing widget widths in each row\n",
    "        for row_str in self.row_strings:\n",
    "            n_cols_in_row = 0\n",
    "            for substring in row_str.split('x')[1:]:\n",
    "                n_cols_in_row += int(substring[0])\n",
    "            self.n_cols = max(self.n_cols, n_cols_in_row)\n",
    "        \n",
    "    def parse_widgets(self):\n",
    "        \"\"\"Parse widget configurations from the row strings and store them in self.widgets.\"\"\"\n",
    "        # Iterate over all rows:\n",
    "        for r, row_str in enumerate(self.row_strings):\n",
    "            widget_strings = [s.strip('[') for s in row_str.split(']')[:-1]]\n",
    "\n",
    "            # Iterate over all widgets in the row:\n",
    "            from_col = 0\n",
    "            for widget_str in widget_strings:\n",
    "                # Remove trailing whitespace from widget_str. Continue if string is empty:\n",
    "                widget_str = widget_str.rstrip()\n",
    "                if widget_str == '':\n",
    "                    continue\n",
    "\n",
    "                color = 'A' if 'color' not in widget_str else widget_str.split('color')[-1][-1]\n",
    "                temp_widget = WidgetConfig(\n",
    "                    widget_type=widget_str.split(' ')[0],\n",
    "                    metric='separator' if 'separator' in widget_str else widget_str.split(' ')[1],\n",
    "                    fromRow=r,\n",
    "                    fromCol=from_col,\n",
    "                    rowSpan=int(widget_str.split('x')[0][-1]),\n",
    "                    colSpan=int(widget_str.split('x')[1][0]),\n",
    "                    color_scheme=color,\n",
    "                    is_separator=True if 'separator' in widget_str else False\n",
    "                )\n",
    "                self.widgets.append(temp_widget)\n",
    "\n",
    "                # Update from_col to the end of the current widget:\n",
    "                from_col += temp_widget.colSpan\n"
   ]
  },
  {
   "cell_type": "code",
   "execution_count": 7,
   "metadata": {},
   "outputs": [
    {
     "data": {
      "text/plain": [
       "[WidgetConfig(widget_type='circle', metric='cpu', fromRow=0, fromCol=0, rowSpan=1, colSpan=1, color_scheme='a', is_separator=False),\n",
       " WidgetConfig(widget_type='circle', metric='gpu_temp', fromRow=0, fromCol=1, rowSpan=1, colSpan=1, color_scheme='b', is_separator=False),\n",
       " WidgetConfig(widget_type='circle', metric='gpu_memory', fromRow=0, fromCol=2, rowSpan=2, colSpan=1, color_scheme='c', is_separator=False),\n",
       " WidgetConfig(widget_type='', metric='separator', fromRow=1, fromCol=0, rowSpan=1, colSpan=2, color_scheme='A', is_separator=True)]"
      ]
     },
     "execution_count": 7,
     "metadata": {},
     "output_type": "execute_result"
    }
   ],
   "source": [
    "parser = LayoutParser('settings/default_layout.txt')\n",
    "widgets = parser.widgets\n",
    "widgets"
   ]
  },
  {
   "cell_type": "code",
   "execution_count": null,
   "metadata": {},
   "outputs": [],
   "source": []
  }
 ],
 "metadata": {
  "kernelspec": {
   "display_name": ".venv",
   "language": "python",
   "name": "python3"
  },
  "language_info": {
   "codemirror_mode": {
    "name": "ipython",
    "version": 3
   },
   "file_extension": ".py",
   "mimetype": "text/x-python",
   "name": "python",
   "nbconvert_exporter": "python",
   "pygments_lexer": "ipython3",
   "version": "3.12.8"
  }
 },
 "nbformat": 4,
 "nbformat_minor": 2
}
