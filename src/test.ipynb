{
 "cells": [
  {
   "cell_type": "code",
   "execution_count": 1,
   "metadata": {},
   "outputs": [],
   "source": [
    "import sys, subprocess\n",
    "import wmi # pip install wmi\n",
    "import clr # pip install pythonnet\n",
    "import os"
   ]
  },
  {
   "cell_type": "code",
   "execution_count": 2,
   "metadata": {},
   "outputs": [],
   "source": [
    "import System\n",
    "# from System.Configuration import ConfigurationManager\n",
    "# from System.Configuration import Configuration\n",
    "\n",
    "# Enable loading from remote sources\n",
    "System.AppDomain.CurrentDomain.SetData(\"LoadFromRemoteSources\", True)"
   ]
  },
  {
   "cell_type": "code",
   "execution_count": 7,
   "metadata": {},
   "outputs": [
    {
     "name": "stdout",
     "output_type": "stream",
     "text": [
      "Requirement already satisfied: WinTmp in c:\\users\\sello\\documents\\code\\hw-mom\\.venv\\lib\\site-packages (1.2.0)\n",
      "Requirement already satisfied: pythonnet in c:\\users\\sello\\documents\\code\\hw-mom\\.venv\\lib\\site-packages (from WinTmp) (3.0.5)\n",
      "Requirement already satisfied: wmi in c:\\users\\sello\\documents\\code\\hw-mom\\.venv\\lib\\site-packages (from WinTmp) (1.5.1)\n",
      "Requirement already satisfied: clr_loader<0.3.0,>=0.2.7 in c:\\users\\sello\\documents\\code\\hw-mom\\.venv\\lib\\site-packages (from pythonnet->WinTmp) (0.2.7.post0)\n",
      "Requirement already satisfied: pywin32 in c:\\users\\sello\\documents\\code\\hw-mom\\.venv\\lib\\site-packages (from wmi->WinTmp) (308)\n",
      "Requirement already satisfied: cffi>=1.17 in c:\\users\\sello\\documents\\code\\hw-mom\\.venv\\lib\\site-packages (from clr_loader<0.3.0,>=0.2.7->pythonnet->WinTmp) (1.17.1)\n",
      "Requirement already satisfied: pycparser in c:\\users\\sello\\documents\\code\\hw-mom\\.venv\\lib\\site-packages (from cffi>=1.17->clr_loader<0.3.0,>=0.2.7->pythonnet->WinTmp) (2.22)\n"
     ]
    },
    {
     "name": "stderr",
     "output_type": "stream",
     "text": [
      "\n",
      "[notice] A new release of pip is available: 24.3.1 -> 25.0\n",
      "[notice] To update, run: python.exe -m pip install --upgrade pip\n"
     ]
    }
   ],
   "source": [
    "!pip install WinTmp"
   ]
  },
  {
   "cell_type": "code",
   "execution_count": 8,
   "metadata": {},
   "outputs": [
    {
     "ename": "FileLoadException",
     "evalue": "Det går inte att läsa in filen eller sammansättningen file:///c:\\Users\\Sello\\Documents\\Code\\hw-mom\\.venv\\Lib\\site-packages\\WinTmp\\LibreHardwareMonitorLib.dll eller ett av dess beroenden. Åtgärden stöds inte. (Undantag från HRESULT: 0x80131515)\r\nFilnamn: file:///c:\\Users\\Sello\\Documents\\Code\\hw-mom\\.venv\\Lib\\site-packages\\WinTmp\\LibreHardwareMonitorLib.dll ---> System.NotSupportedException: Ett försök gjordes att läsa in en sammansättning från en nätverksplats som skulle ha försatt sammansättningen i begränsat läge i tidigare versioner av .NET Framework. I den här versionen av .NET Framework är CAS-principen inte aktiverad som standard, så den här inläsningen kan vara farlig. Om den här inläsningen inte är avsedd att försätta sammansättningen i begränsat läge aktiverar du växeln loadFromRemoteSources. Mer information finns på http://go.microsoft.com/fwlink/?LinkId=155569.\r\n   vid System.Reflection.RuntimeAssembly._nLoad(AssemblyName fileName, String codeBase, Evidence assemblySecurity, RuntimeAssembly locationHint, StackCrawlMark& stackMark, IntPtr pPrivHostBinder, Boolean throwOnFileNotFound, Boolean forIntrospection, Boolean suppressSecurityChecks)\r\n   vid System.Reflection.RuntimeAssembly.InternalLoadAssemblyName(AssemblyName assemblyRef, Evidence assemblySecurity, RuntimeAssembly reqAssembly, StackCrawlMark& stackMark, IntPtr pPrivHostBinder, Boolean throwOnFileNotFound, Boolean forIntrospection, Boolean suppressSecurityChecks)\r\n   vid System.Reflection.RuntimeAssembly.InternalLoadFrom(String assemblyFile, Evidence securityEvidence, Byte[] hashValue, AssemblyHashAlgorithm hashAlgorithm, Boolean forIntrospection, Boolean suppressSecurityChecks, StackCrawlMark& stackMark)\r\n   vid System.Reflection.Assembly.LoadFrom(String assemblyFile)\r\n   vid Python.Runtime.AssemblyManager.LoadAssemblyFullPath(String name)\r\n   vid Python.Runtime.CLRModule.AddReference(String name)\r\n\r\n",
     "output_type": "error",
     "traceback": [
      "\u001b[1;31m---------------------------------------------------------------------------\u001b[0m",
      "\u001b[1;31mNotSupportedException\u001b[0m                     Traceback (most recent call last)",
      "\u001b[1;31mNotSupportedException\u001b[0m: Ett försök gjordes att läsa in en sammansättning från en nätverksplats som skulle ha försatt sammansättningen i begränsat läge i tidigare versioner av .NET Framework. I den här versionen av .NET Framework är CAS-principen inte aktiverad som standard, så den här inläsningen kan vara farlig. Om den här inläsningen inte är avsedd att försätta sammansättningen i begränsat läge aktiverar du växeln loadFromRemoteSources. Mer information finns på http://go.microsoft.com/fwlink/?LinkId=155569.",
      "\nThe above exception was the direct cause of the following exception:\n",
      "\u001b[1;31mFileLoadException\u001b[0m                         Traceback (most recent call last)",
      "Cell \u001b[1;32mIn[8], line 1\u001b[0m\n\u001b[1;32m----> 1\u001b[0m \u001b[38;5;28;01mimport\u001b[39;00m\u001b[38;5;250m \u001b[39m\u001b[38;5;21;01mWinTmp\u001b[39;00m\n\u001b[0;32m      2\u001b[0m WinTmp\u001b[38;5;241m.\u001b[39mCPU_Temp()\n",
      "File \u001b[1;32mc:\\Users\\Sello\\Documents\\Code\\hw-mom\\.venv\\Lib\\site-packages\\WinTmp\\__init__.py:9\u001b[0m\n\u001b[0;32m      6\u001b[0m \u001b[38;5;28;01melse\u001b[39;00m:\n\u001b[0;32m      7\u001b[0m     __version__ \u001b[38;5;241m=\u001b[39m \u001b[38;5;124m\"\u001b[39m\u001b[38;5;124m0.0.0-dev\u001b[39m\u001b[38;5;124m\"\u001b[39m\n\u001b[1;32m----> 9\u001b[0m \u001b[43mclr\u001b[49m\u001b[38;5;241;43m.\u001b[39;49m\u001b[43mAddReference\u001b[49m\u001b[43m(\u001b[49m\n\u001b[0;32m     10\u001b[0m \u001b[43m    \u001b[49m\u001b[43mos\u001b[49m\u001b[38;5;241;43m.\u001b[39;49m\u001b[43mpath\u001b[49m\u001b[38;5;241;43m.\u001b[39;49m\u001b[43mjoin\u001b[49m\u001b[43m(\u001b[49m\n\u001b[0;32m     11\u001b[0m \u001b[43m        \u001b[49m\u001b[43mos\u001b[49m\u001b[38;5;241;43m.\u001b[39;49m\u001b[43mpath\u001b[49m\u001b[38;5;241;43m.\u001b[39;49m\u001b[43mdirname\u001b[49m\u001b[43m(\u001b[49m\u001b[43mos\u001b[49m\u001b[38;5;241;43m.\u001b[39;49m\u001b[43mpath\u001b[49m\u001b[38;5;241;43m.\u001b[39;49m\u001b[43mabspath\u001b[49m\u001b[43m(\u001b[49m\u001b[38;5;18;43m__file__\u001b[39;49m\u001b[43m)\u001b[49m\u001b[43m)\u001b[49m\u001b[43m,\u001b[49m\u001b[43m \u001b[49m\u001b[38;5;124;43m\"\u001b[39;49m\u001b[38;5;124;43mLibreHardwareMonitorLib.dll\u001b[39;49m\u001b[38;5;124;43m\"\u001b[39;49m\n\u001b[0;32m     12\u001b[0m \u001b[43m    \u001b[49m\u001b[43m)\u001b[49m\n\u001b[0;32m     13\u001b[0m \u001b[43m)\u001b[49m\n\u001b[0;32m     14\u001b[0m \u001b[38;5;28;01mfrom\u001b[39;00m\u001b[38;5;250m \u001b[39m\u001b[38;5;21;01mLibreHardwareMonitor\u001b[39;00m\u001b[38;5;250m \u001b[39m\u001b[38;5;28;01mimport\u001b[39;00m Hardware\n\u001b[0;32m     16\u001b[0m hw \u001b[38;5;241m=\u001b[39m Hardware\u001b[38;5;241m.\u001b[39mComputer()\n",
      "\u001b[1;31mFileLoadException\u001b[0m: Det går inte att läsa in filen eller sammansättningen file:///c:\\Users\\Sello\\Documents\\Code\\hw-mom\\.venv\\Lib\\site-packages\\WinTmp\\LibreHardwareMonitorLib.dll eller ett av dess beroenden. Åtgärden stöds inte. (Undantag från HRESULT: 0x80131515)\r\nFilnamn: file:///c:\\Users\\Sello\\Documents\\Code\\hw-mom\\.venv\\Lib\\site-packages\\WinTmp\\LibreHardwareMonitorLib.dll ---> System.NotSupportedException: Ett försök gjordes att läsa in en sammansättning från en nätverksplats som skulle ha försatt sammansättningen i begränsat läge i tidigare versioner av .NET Framework. I den här versionen av .NET Framework är CAS-principen inte aktiverad som standard, så den här inläsningen kan vara farlig. Om den här inläsningen inte är avsedd att försätta sammansättningen i begränsat läge aktiverar du växeln loadFromRemoteSources. Mer information finns på http://go.microsoft.com/fwlink/?LinkId=155569.\r\n   vid System.Reflection.RuntimeAssembly._nLoad(AssemblyName fileName, String codeBase, Evidence assemblySecurity, RuntimeAssembly locationHint, StackCrawlMark& stackMark, IntPtr pPrivHostBinder, Boolean throwOnFileNotFound, Boolean forIntrospection, Boolean suppressSecurityChecks)\r\n   vid System.Reflection.RuntimeAssembly.InternalLoadAssemblyName(AssemblyName assemblyRef, Evidence assemblySecurity, RuntimeAssembly reqAssembly, StackCrawlMark& stackMark, IntPtr pPrivHostBinder, Boolean throwOnFileNotFound, Boolean forIntrospection, Boolean suppressSecurityChecks)\r\n   vid System.Reflection.RuntimeAssembly.InternalLoadFrom(String assemblyFile, Evidence securityEvidence, Byte[] hashValue, AssemblyHashAlgorithm hashAlgorithm, Boolean forIntrospection, Boolean suppressSecurityChecks, StackCrawlMark& stackMark)\r\n   vid System.Reflection.Assembly.LoadFrom(String assemblyFile)\r\n   vid Python.Runtime.AssemblyManager.LoadAssemblyFullPath(String name)\r\n   vid Python.Runtime.CLRModule.AddReference(String name)\r\n\r\n"
     ]
    }
   ],
   "source": [
    "import WinTmp\n",
    "WinTmp.CPU_Temp()"
   ]
  },
  {
   "cell_type": "code",
   "execution_count": 4,
   "metadata": {},
   "outputs": [
    {
     "data": {
      "text/plain": [
       "'c:\\\\Users\\\\Sello\\\\Documents\\\\Code\\\\hw-mom\\\\src\\\\LibreHardwareMonitorLib.dll'"
      ]
     },
     "execution_count": 4,
     "metadata": {},
     "output_type": "execute_result"
    }
   ],
   "source": [
    "os.path.join(os.getcwd(), \"LibreHardwareMonitorLib.dll\")"
   ]
  },
  {
   "cell_type": "code",
   "execution_count": 5,
   "metadata": {},
   "outputs": [
    {
     "ename": "FileLoadException",
     "evalue": "Det går inte att läsa in filen eller sammansättningen file:///c:\\Users\\Sello\\Documents\\Code\\hw-mom\\src\\LibreHardwareMonitorLib.dll eller ett av dess beroenden. Åtgärden stöds inte. (Undantag från HRESULT: 0x80131515)\r\nFilnamn: file:///c:\\Users\\Sello\\Documents\\Code\\hw-mom\\src\\LibreHardwareMonitorLib.dll ---> System.NotSupportedException: Ett försök gjordes att läsa in en sammansättning från en nätverksplats som skulle ha försatt sammansättningen i begränsat läge i tidigare versioner av .NET Framework. I den här versionen av .NET Framework är CAS-principen inte aktiverad som standard, så den här inläsningen kan vara farlig. Om den här inläsningen inte är avsedd att försätta sammansättningen i begränsat läge aktiverar du växeln loadFromRemoteSources. Mer information finns på http://go.microsoft.com/fwlink/?LinkId=155569.\r\n   vid System.Reflection.RuntimeAssembly._nLoad(AssemblyName fileName, String codeBase, Evidence assemblySecurity, RuntimeAssembly locationHint, StackCrawlMark& stackMark, IntPtr pPrivHostBinder, Boolean throwOnFileNotFound, Boolean forIntrospection, Boolean suppressSecurityChecks)\r\n   vid System.Reflection.RuntimeAssembly.InternalLoadAssemblyName(AssemblyName assemblyRef, Evidence assemblySecurity, RuntimeAssembly reqAssembly, StackCrawlMark& stackMark, IntPtr pPrivHostBinder, Boolean throwOnFileNotFound, Boolean forIntrospection, Boolean suppressSecurityChecks)\r\n   vid System.Reflection.RuntimeAssembly.InternalLoadFrom(String assemblyFile, Evidence securityEvidence, Byte[] hashValue, AssemblyHashAlgorithm hashAlgorithm, Boolean forIntrospection, Boolean suppressSecurityChecks, StackCrawlMark& stackMark)\r\n   vid System.Reflection.Assembly.LoadFrom(String assemblyFile)\r\n   vid Python.Runtime.AssemblyManager.LoadAssemblyFullPath(String name)\r\n   vid Python.Runtime.CLRModule.AddReference(String name)\r\n\r\n",
     "output_type": "error",
     "traceback": [
      "\u001b[1;31m---------------------------------------------------------------------------\u001b[0m",
      "\u001b[1;31mNotSupportedException\u001b[0m                     Traceback (most recent call last)",
      "\u001b[1;31mNotSupportedException\u001b[0m: Ett försök gjordes att läsa in en sammansättning från en nätverksplats som skulle ha försatt sammansättningen i begränsat läge i tidigare versioner av .NET Framework. I den här versionen av .NET Framework är CAS-principen inte aktiverad som standard, så den här inläsningen kan vara farlig. Om den här inläsningen inte är avsedd att försätta sammansättningen i begränsat läge aktiverar du växeln loadFromRemoteSources. Mer information finns på http://go.microsoft.com/fwlink/?LinkId=155569.",
      "\nThe above exception was the direct cause of the following exception:\n",
      "\u001b[1;31mFileLoadException\u001b[0m                         Traceback (most recent call last)",
      "Cell \u001b[1;32mIn[5], line 1\u001b[0m\n\u001b[1;32m----> 1\u001b[0m \u001b[43mclr\u001b[49m\u001b[38;5;241;43m.\u001b[39;49m\u001b[43mAddReference\u001b[49m\u001b[43m(\u001b[49m\u001b[43mos\u001b[49m\u001b[38;5;241;43m.\u001b[39;49m\u001b[43mpath\u001b[49m\u001b[38;5;241;43m.\u001b[39;49m\u001b[43mjoin\u001b[49m\u001b[43m(\u001b[49m\u001b[43mos\u001b[49m\u001b[38;5;241;43m.\u001b[39;49m\u001b[43mgetcwd\u001b[49m\u001b[43m(\u001b[49m\u001b[43m)\u001b[49m\u001b[43m,\u001b[49m\u001b[43m \u001b[49m\u001b[38;5;124;43m\"\u001b[39;49m\u001b[38;5;124;43mLibreHardwareMonitorLib.dll\u001b[39;49m\u001b[38;5;124;43m\"\u001b[39;49m\u001b[43m)\u001b[49m\u001b[43m)\u001b[49m\n",
      "\u001b[1;31mFileLoadException\u001b[0m: Det går inte att läsa in filen eller sammansättningen file:///c:\\Users\\Sello\\Documents\\Code\\hw-mom\\src\\LibreHardwareMonitorLib.dll eller ett av dess beroenden. Åtgärden stöds inte. (Undantag från HRESULT: 0x80131515)\r\nFilnamn: file:///c:\\Users\\Sello\\Documents\\Code\\hw-mom\\src\\LibreHardwareMonitorLib.dll ---> System.NotSupportedException: Ett försök gjordes att läsa in en sammansättning från en nätverksplats som skulle ha försatt sammansättningen i begränsat läge i tidigare versioner av .NET Framework. I den här versionen av .NET Framework är CAS-principen inte aktiverad som standard, så den här inläsningen kan vara farlig. Om den här inläsningen inte är avsedd att försätta sammansättningen i begränsat läge aktiverar du växeln loadFromRemoteSources. Mer information finns på http://go.microsoft.com/fwlink/?LinkId=155569.\r\n   vid System.Reflection.RuntimeAssembly._nLoad(AssemblyName fileName, String codeBase, Evidence assemblySecurity, RuntimeAssembly locationHint, StackCrawlMark& stackMark, IntPtr pPrivHostBinder, Boolean throwOnFileNotFound, Boolean forIntrospection, Boolean suppressSecurityChecks)\r\n   vid System.Reflection.RuntimeAssembly.InternalLoadAssemblyName(AssemblyName assemblyRef, Evidence assemblySecurity, RuntimeAssembly reqAssembly, StackCrawlMark& stackMark, IntPtr pPrivHostBinder, Boolean throwOnFileNotFound, Boolean forIntrospection, Boolean suppressSecurityChecks)\r\n   vid System.Reflection.RuntimeAssembly.InternalLoadFrom(String assemblyFile, Evidence securityEvidence, Byte[] hashValue, AssemblyHashAlgorithm hashAlgorithm, Boolean forIntrospection, Boolean suppressSecurityChecks, StackCrawlMark& stackMark)\r\n   vid System.Reflection.Assembly.LoadFrom(String assemblyFile)\r\n   vid Python.Runtime.AssemblyManager.LoadAssemblyFullPath(String name)\r\n   vid Python.Runtime.CLRModule.AddReference(String name)\r\n\r\n"
     ]
    }
   ],
   "source": [
    "clr.AddReference(os.path.join(os.getcwd(), \"LibreHardwareMonitorLib.dll\"))"
   ]
  },
  {
   "cell_type": "code",
   "execution_count": 3,
   "metadata": {},
   "outputs": [
    {
     "ename": "FileNotFoundException",
     "evalue": "Det går inte att läsa in filen eller sammansättningen OpenHardwareMonitorLib.dll eller ett av dess beroenden. Det går inte att hitta filen.\r\nFilnamn: OpenHardwareMonitorLib.dll\r\n   vid System.Reflection.RuntimeAssembly._nLoad(AssemblyName fileName, String codeBase, Evidence assemblySecurity, RuntimeAssembly locationHint, StackCrawlMark& stackMark, IntPtr pPrivHostBinder, Boolean throwOnFileNotFound, Boolean forIntrospection, Boolean suppressSecurityChecks)\r\n   vid System.Reflection.RuntimeAssembly.InternalLoadAssemblyName(AssemblyName assemblyRef, Evidence assemblySecurity, RuntimeAssembly reqAssembly, StackCrawlMark& stackMark, IntPtr pPrivHostBinder, Boolean throwOnFileNotFound, Boolean forIntrospection, Boolean suppressSecurityChecks)\r\n   vid System.Reflection.Assembly.Load(AssemblyName assemblyRef)\r\n   vid Python.Runtime.AssemblyManager.LoadAssembly(AssemblyName name)\r\n   vid Python.Runtime.CLRModule.AddReference(String name)\r\n\r\nVARN: Loggningen av sammansättningsbindningen är inaktiverad.\r\nDu kan aktivera felloggning för sammansättningsbindningar genom att ange registervärdet [HKLM\\Software\\Microsoft\\Fusion!EnableLog] (DWORD) till 1.\r\nObs! Prestanda kan försämras något med felloggning för sammansättningsbindningar.\r\nDu kan inaktivera funktionen genom att ta bort registervärdet [HKLM\\Software\\Microsoft\\Fusion!EnableLog].\r\n",
     "output_type": "error",
     "traceback": [
      "\u001b[1;31m---------------------------------------------------------------------------\u001b[0m",
      "\u001b[1;31mFileNotFoundException\u001b[0m                     Traceback (most recent call last)",
      "Cell \u001b[1;32mIn[3], line 1\u001b[0m\n\u001b[1;32m----> 1\u001b[0m \u001b[43mclr\u001b[49m\u001b[38;5;241;43m.\u001b[39;49m\u001b[43mAddReference\u001b[49m\u001b[43m(\u001b[49m\u001b[38;5;124;43m'\u001b[39;49m\u001b[38;5;124;43mOpenHardwareMonitorLib.dll\u001b[39;49m\u001b[38;5;124;43m'\u001b[39;49m\u001b[43m)\u001b[49m\n",
      "\u001b[1;31mFileNotFoundException\u001b[0m: Det går inte att läsa in filen eller sammansättningen OpenHardwareMonitorLib.dll eller ett av dess beroenden. Det går inte att hitta filen.\r\nFilnamn: OpenHardwareMonitorLib.dll\r\n   vid System.Reflection.RuntimeAssembly._nLoad(AssemblyName fileName, String codeBase, Evidence assemblySecurity, RuntimeAssembly locationHint, StackCrawlMark& stackMark, IntPtr pPrivHostBinder, Boolean throwOnFileNotFound, Boolean forIntrospection, Boolean suppressSecurityChecks)\r\n   vid System.Reflection.RuntimeAssembly.InternalLoadAssemblyName(AssemblyName assemblyRef, Evidence assemblySecurity, RuntimeAssembly reqAssembly, StackCrawlMark& stackMark, IntPtr pPrivHostBinder, Boolean throwOnFileNotFound, Boolean forIntrospection, Boolean suppressSecurityChecks)\r\n   vid System.Reflection.Assembly.Load(AssemblyName assemblyRef)\r\n   vid Python.Runtime.AssemblyManager.LoadAssembly(AssemblyName name)\r\n   vid Python.Runtime.CLRModule.AddReference(String name)\r\n\r\nVARN: Loggningen av sammansättningsbindningen är inaktiverad.\r\nDu kan aktivera felloggning för sammansättningsbindningar genom att ange registervärdet [HKLM\\Software\\Microsoft\\Fusion!EnableLog] (DWORD) till 1.\r\nObs! Prestanda kan försämras något med felloggning för sammansättningsbindningar.\r\nDu kan inaktivera funktionen genom att ta bort registervärdet [HKLM\\Software\\Microsoft\\Fusion!EnableLog].\r\n"
     ]
    }
   ],
   "source": [
    "clr.AddReference('OpenHardwareMonitorLib.dll')"
   ]
  },
  {
   "cell_type": "code",
   "execution_count": 20,
   "metadata": {},
   "outputs": [
    {
     "data": {
      "text/plain": [
       "3010"
      ]
     },
     "execution_count": 20,
     "metadata": {},
     "output_type": "execute_result"
    }
   ],
   "source": [
    "w.MSAcpi_ThermalZoneTemperature()[0].CurrentTemperature"
   ]
  },
  {
   "cell_type": "code",
   "execution_count": null,
   "metadata": {},
   "outputs": [],
   "source": []
  },
  {
   "cell_type": "code",
   "execution_count": null,
   "metadata": {},
   "outputs": [],
   "source": []
  },
  {
   "cell_type": "code",
   "execution_count": null,
   "metadata": {},
   "outputs": [],
   "source": []
  },
  {
   "cell_type": "code",
   "execution_count": 55,
   "metadata": {},
   "outputs": [
    {
     "data": {
      "text/plain": [
       "44.0"
      ]
     },
     "execution_count": 55,
     "metadata": {},
     "output_type": "execute_result"
    }
   ],
   "source": [
    "result = subprocess.run(\n",
    "    ['nvidia-smi', \n",
    "        '--query-gpu=temperature.gpu,utilization.gpu,memory.used,memory.total', \n",
    "        '--format=csv,noheader,nounits'], \n",
    "    capture_output=True, text=True, check=True\n",
    ")\n",
    "temp, util, mem_used, mem_total = map(float, result.stdout.strip().split(','))\n",
    "temp"
   ]
  },
  {
   "cell_type": "code",
   "execution_count": null,
   "metadata": {},
   "outputs": [],
   "source": []
  },
  {
   "cell_type": "code",
   "execution_count": null,
   "metadata": {},
   "outputs": [],
   "source": []
  },
  {
   "cell_type": "code",
   "execution_count": null,
   "metadata": {},
   "outputs": [],
   "source": []
  }
 ],
 "metadata": {
  "kernelspec": {
   "display_name": ".venv",
   "language": "python",
   "name": "python3"
  },
  "language_info": {
   "codemirror_mode": {
    "name": "ipython",
    "version": 3
   },
   "file_extension": ".py",
   "mimetype": "text/x-python",
   "name": "python",
   "nbconvert_exporter": "python",
   "pygments_lexer": "ipython3",
   "version": "3.12.8"
  }
 },
 "nbformat": 4,
 "nbformat_minor": 2
}
